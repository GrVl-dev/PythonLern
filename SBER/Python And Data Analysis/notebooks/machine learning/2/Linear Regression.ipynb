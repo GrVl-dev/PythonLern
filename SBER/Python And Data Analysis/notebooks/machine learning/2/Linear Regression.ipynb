{
 "cells": [
  {
   "cell_type": "markdown",
   "metadata": {
    "toc": true
   },
   "source": [
    "<h1>Table of Contents<span class=\"tocSkip\"></span></h1>\n",
    "<div class=\"toc\"><ul class=\"toc-item\"><li><span><a href=\"#Линейная-регрессия\" data-toc-modified-id=\"Линейная-регрессия-1\"><span class=\"toc-item-num\">1&nbsp;&nbsp;</span>Линейная регрессия</a></span></li><li><span><a href=\"#Линейная-регрессия\" data-toc-modified-id=\"Линейная-регрессия-2\"><span class=\"toc-item-num\">2&nbsp;&nbsp;</span>Линейная регрессия</a></span><ul class=\"toc-item\"><li><span><a href=\"#Оценка-результатов\" data-toc-modified-id=\"Оценка-результатов-2.1\"><span class=\"toc-item-num\">2.1&nbsp;&nbsp;</span>Оценка результатов</a></span></li></ul></li><li><span><a href=\"#Реальный-датасет\" data-toc-modified-id=\"Реальный-датасет-3\"><span class=\"toc-item-num\">3&nbsp;&nbsp;</span>Реальный датасет</a></span><ul class=\"toc-item\"><li><span><a href=\"#Обучение-на-реальных-данных\" data-toc-modified-id=\"Обучение-на-реальных-данных-3.1\"><span class=\"toc-item-num\">3.1&nbsp;&nbsp;</span>Обучение на реальных данных</a></span></li><li><span><a href=\"#Ridge-&amp;-Lasso\" data-toc-modified-id=\"Ridge-&amp;-Lasso-3.2\"><span class=\"toc-item-num\">3.2&nbsp;&nbsp;</span>Ridge &amp; Lasso</a></span><ul class=\"toc-item\"><li><span><a href=\"#Ridge-regression:\" data-toc-modified-id=\"Ridge-regression:-3.2.1\"><span class=\"toc-item-num\">3.2.1&nbsp;&nbsp;</span>Ridge regression:</a></span></li><li><span><a href=\"#Lasso-regression:\" data-toc-modified-id=\"Lasso-regression:-3.2.2\"><span class=\"toc-item-num\">3.2.2&nbsp;&nbsp;</span>Lasso regression:</a></span></li></ul></li></ul></li><li><span><a href=\"#Предсказание-отклика-на-маркетинговую-кампанию\" data-toc-modified-id=\"Предсказание-отклика-на-маркетинговую-кампанию-4\"><span class=\"toc-item-num\">4&nbsp;&nbsp;</span>Предсказание отклика на маркетинговую кампанию</a></span></li></ul></div>"
   ]
  },
  {
   "cell_type": "markdown",
   "metadata": {
    "colab_type": "text",
    "id": "LkTpaRRWZNc3"
   },
   "source": [
    "# Линейная регрессия\n"
   ]
  },
  {
   "cell_type": "markdown",
   "metadata": {
    "colab_type": "text",
    "id": "Y5HVNycSZNc5"
   },
   "source": [
    "Загрузим необходимые библиотеки"
   ]
  },
  {
   "cell_type": "code",
   "execution_count": 1,
   "metadata": {
    "colab": {},
    "colab_type": "code",
    "id": "Lrhz2sFvZNc7"
   },
   "outputs": [],
   "source": [
    "import numpy as np\n",
    "import pandas as pd\n",
    "from matplotlib import pyplot as plt\n",
    "plt.style.use('ggplot')\n",
    "%matplotlib inline"
   ]
  },
  {
   "cell_type": "markdown",
   "metadata": {
    "colab_type": "text",
    "id": "BqWbfcF3ZNdB"
   },
   "source": [
    "# Линейная регрессия"
   ]
  },
  {
   "cell_type": "markdown",
   "metadata": {
    "colab_type": "text",
    "id": "Ro-ttLpiZNdC"
   },
   "source": [
    "Линейные методы предполагают, что между признаками объекта и целевой переменной существует линейная зависимость, то есть:\n",
    "$$ y = w_1 x_1 + w_2 x_2 + ... + w_k x_k + b,$$\n",
    "где у - целевая переменная (что мы хотим предсказать), $x_i$ -- признак объекта х, $w_i$ -- вес i-го признака, b -- bias (смещение, свободный член)\n",
    "\n",
    "Часто предполагают, что объект х содержит в себе фиктивный признак, который всегда равен 1, тогда bias это есть вес этого признака. В этом случае формула принимает простой вид:\n",
    "$$ y = <w, x>. $$\n",
    "\n",
    "В матричной форме, в случае, когда у нас есть n объектов формулу можно переписать следующим образом:\n",
    "$$ Y = Xw,$$\n",
    "Y -- вектор размера n, X -- матрица объекты-признаки размера $n \\times k$, w -- вектор весов размера k.\n",
    "\n",
    "Решение по методу наименьших квадратов дает \n",
    "$$ w = (X^TX)^{-1}X^TY $$"
   ]
  },
  {
   "cell_type": "markdown",
   "metadata": {
    "colab_type": "text",
    "id": "aStEfJYSZNdE"
   },
   "source": [
    "Сгенерируем искусственные данные. "
   ]
  },
  {
   "cell_type": "code",
   "execution_count": 2,
   "metadata": {
    "colab": {},
    "colab_type": "code",
    "id": "d3tzSTkrZNdF"
   },
   "outputs": [],
   "source": [
    "def generate_data(n_points=20):\n",
    "  \"\"\"\n",
    "    Принимает на вход n_points точек \n",
    "    Возвращает данные для обучения и теста\n",
    "  \"\"\"\n",
    "  X = np.linspace(-5, 5, n_points)\n",
    "  y = 10 * X - 7\n",
    "\n",
    "  X_train = X[0::2].reshape(-1, 1)\n",
    "  y_train = y[0::2] + np.random.randn(int(n_points/2)) * 10\n",
    "\n",
    "  X_test = X[1::2].reshape(-1, 1)\n",
    "  y_test = y[1::2] + np.random.randn(int(n_points/2)) * 10\n",
    "\n",
    "  print(f'Generated {len(X_train)} train samples and {len(X_test)} test samples')\n",
    "  return X, y, X_train, y_train, X_test, y_test"
   ]
  },
  {
   "cell_type": "code",
   "execution_count": 3,
   "metadata": {
    "colab": {
     "base_uri": "https://localhost:8080/",
     "height": 34
    },
    "colab_type": "code",
    "id": "bnYHO2TjZNdJ",
    "outputId": "2b4e9029-7860-4073-e82a-9e7e0a767e59"
   },
   "outputs": [
    {
     "name": "stdout",
     "output_type": "stream",
     "text": [
      "Generated 50 train samples and 50 test samples\n"
     ]
    }
   ],
   "source": [
    "X, y, X_train, y_train, X_test, y_test = generate_data(100)"
   ]
  },
  {
   "cell_type": "markdown",
   "metadata": {
    "colab_type": "text",
    "id": "qNoMoAS_ZNdN"
   },
   "source": [
    "Визуализируем данные, используя библиотеку matplotlib."
   ]
  },
  {
   "cell_type": "code",
   "execution_count": 4,
   "metadata": {
    "colab": {
     "base_uri": "https://localhost:8080/",
     "height": 320
    },
    "colab_type": "code",
    "id": "NhP-hMcZZNdO",
    "outputId": "c3172665-9656-4d8e-dfc4-79f128361df2"
   },
   "outputs": [
    {
     "data": {
      "image/png": "[encoded data removed]",
      "text/plain": [
       "<Figure size 720x360 with 1 Axes>"
      ]
     },
     "metadata": {
      "needs_background": "light"
     },
     "output_type": "display_data"
    }
   ],
   "source": [
    "plt.figure(figsize=(10, 5))\n",
    "plt.plot(X, y, label='real')\n",
    "plt.scatter(X_train, y_train, label='train')\n",
    "plt.scatter(X_test, y_test, label='test')\n",
    "plt.legend(loc='best')\n",
    "plt.show()"
   ]
  },
  {
   "cell_type": "markdown",
   "metadata": {
    "colab_type": "text",
    "id": "d9YIzZZbZNdS"
   },
   "source": [
    "Поработаем с простейшим одномерным случаем регрессии. Обучим нашу модель на тренировочной выборке и предскажем значения на тестовой выброке.\n",
    "Предсказанные ответы сохраним в переменную $\\textbf{predictions}$, а веса модели сохраним в переменные $\\textbf{w}$, $b$."
   ]
  },
  {
   "cell_type": "code",
   "execution_count": 5,
   "metadata": {
    "colab": {},
    "colab_type": "code",
    "id": "OZdxUF6bZNdU"
   },
   "outputs": [],
   "source": [
    "from sklearn.linear_model import LinearRegression"
   ]
  },
  {
   "cell_type": "code",
   "execution_count": 6,
   "metadata": {
    "colab": {},
    "colab_type": "code",
    "id": "f_4FQwTFZNdX"
   },
   "outputs": [],
   "source": [
    "model = LinearRegression()\n",
    "\n",
    "model.fit(X_train, y_train) # обучение модели\n",
    "\n",
    "w = model.coef_\n",
    "b = model.intercept_"
   ]
  },
  {
   "cell_type": "code",
   "execution_count": 7,
   "metadata": {
    "colab": {
     "base_uri": "https://localhost:8080/",
     "height": 34
    },
    "colab_type": "code",
    "id": "a2y8H_BZZNdZ",
    "outputId": "66dca6f7-3eda-4db2-b8ea-49d4a58cb662"
   },
   "outputs": [
    {
     "data": {
      "text/plain": [
       "(array([9.37220657]), -7.56012414456559)"
      ]
     },
     "execution_count": 7,
     "metadata": {},
     "output_type": "execute_result"
    }
   ],
   "source": [
    "w, b"
   ]
  },
  {
   "cell_type": "markdown",
   "metadata": {
    "colab_type": "text",
    "id": "RckNQHn1ZNdc"
   },
   "source": [
    "Визуализируем предсказания."
   ]
  },
  {
   "cell_type": "code",
   "execution_count": 8,
   "metadata": {
    "colab": {
     "base_uri": "https://localhost:8080/",
     "height": 320
    },
    "colab_type": "code",
    "id": "4VsfN70CZNdd",
    "outputId": "e515e8ae-c880-41ba-84d9-adccddbf9167"
   },
   "outputs": [
    {
     "data": {
      "image/png": "[encoded data removed]",
      "text/plain": [
       "<Figure size 720x360 with 1 Axes>"
      ]
     },
     "metadata": {
      "needs_background": "light"
     },
     "output_type": "display_data"
    }
   ],
   "source": [
    "plt.figure(figsize=(10, 5))\n",
    "plt.plot(X, y, label='real')\n",
    "plt.scatter(X_train, y_train, label='train')\n",
    "plt.scatter(X_test, y_test, label='test')\n",
    "plt.plot(X[1::2], X[1::2].reshape(-1, 1).dot(w) + b, label='predicted')\n",
    "plt.legend()\n",
    "plt.show()"
   ]
  },
  {
   "cell_type": "markdown",
   "metadata": {
    "colab_type": "text",
    "id": "dFQqRj1lZNdg"
   },
   "source": [
    "## Оценка результатов\n",
    "\n",
    "Вычислим среднеквадратичную ошибку на трейне и на тесте. Также вычислим среднюю абсолютную ошибку."
   ]
  },
  {
   "cell_type": "code",
   "execution_count": 9,
   "metadata": {
    "colab": {
     "base_uri": "https://localhost:8080/",
     "height": 51
    },
    "colab_type": "code",
    "id": "_4zvxDHyZNdh",
    "outputId": "ecc9564d-968e-44cd-f83c-dc9882f2c4a6",
    "scrolled": true
   },
   "outputs": [
    {
     "name": "stdout",
     "output_type": "stream",
     "text": [
      "Train MSE:  80.17132955592814\n",
      "Test MSE:  96.61039869745177\n"
     ]
    }
   ],
   "source": [
    "from sklearn.metrics import mean_squared_error\n",
    "\n",
    "y_train_predicted = model.predict(X_train)\n",
    "y_test_predicted = model.predict(X_test)\n",
    "\n",
    "print('Train MSE: ', mean_squared_error(y_train, y_train_predicted))\n",
    "print('Test MSE: ', mean_squared_error(y_test, y_test_predicted))"
   ]
  },
  {
   "cell_type": "code",
   "execution_count": 11,
   "metadata": {
    "colab": {
     "base_uri": "https://localhost:8080/",
     "height": 51
    },
    "colab_type": "code",
    "id": "yfxuHthgZNdk",
    "outputId": "5446a2cc-3370-46d1-ca69-492eac539010"
   },
   "outputs": [
    {
     "name": "stdout",
     "output_type": "stream",
     "text": [
      "Train MAE:  7.093622663621434\n",
      "Test MAE:  7.30583794433992\n"
     ]
    }
   ],
   "source": [
    "from sklearn.metrics import mean_absolute_error\n",
    "\n",
    "print('Train MAE: ', mean_absolute_error(y_train, y_train_predicted))\n",
    "print('Test MAE: ', mean_absolute_error(y_test, y_test_predicted))"
   ]
  },
  {
   "cell_type": "markdown",
   "metadata": {
    "colab_type": "text",
    "id": "feMIFS82ZNdn"
   },
   "source": [
    "# Реальный датасет"
   ]
  },
  {
   "cell_type": "markdown",
   "metadata": {
    "colab_type": "text",
    "id": "_NVLc80wZNdn"
   },
   "source": [
    "Будем работать с датасетом Boston. Этот датасет описывает средние цены на недвижимость в районах Бостона в $1000. \n",
    "Примеры признаков города: количество преступлений на душу населения, процент старых домов в районе, количество учеников на одного учителя и т.д. Обратите внимание на то, что данные уже оцифрованы там, где изначально признаки были качественными."
   ]
  },
  {
   "cell_type": "markdown",
   "metadata": {
    "colab_type": "text",
    "id": "yMC-plFGZNdo"
   },
   "source": [
    "Загрузим датасет, выведем информацию"
   ]
  },
  {
   "cell_type": "code",
   "execution_count": 32,
   "metadata": {
    "colab": {},
    "colab_type": "code",
    "id": "ZN6sApHcZNdo"
   },
   "outputs": [],
   "source": [
    "from sklearn.datasets import load_boston\n",
    "from sklearn.metrics import accuracy_score, roc_curve, roc_auc_score, f1_score"
   ]
  },
  {
   "cell_type": "code",
   "execution_count": 33,
   "metadata": {
    "colab": {},
    "colab_type": "code",
    "id": "YBgnP7HcZNdq"
   },
   "outputs": [],
   "source": [
    "house_data = load_boston()"
   ]
  },
  {
   "cell_type": "code",
   "execution_count": 34,
   "metadata": {
    "colab": {},
    "colab_type": "code",
    "id": "xEVoaQjaZNdu"
   },
   "outputs": [],
   "source": [
    "X = pd.DataFrame(house_data['data'], columns=house_data['feature_names'])\n",
    "y = house_data['target']"
   ]
  },
  {
   "cell_type": "code",
   "execution_count": 35,
   "metadata": {
    "colab": {
     "base_uri": "https://localhost:8080/",
     "height": 419
    },
    "colab_type": "code",
    "id": "rb3z1v7oZNdy",
    "outputId": "5dc0ff6e-c345-4f4d-a744-3d1a3eb6be98"
   },
   "outputs": [
    {
     "data": {
      "text/html": [
       "<div>\n",
       "<style scoped>\n",
       "    .dataframe tbody tr th:only-of-type {\n",
       "        vertical-align: middle;\n",
       "    }\n",
       "\n",
       "    .dataframe tbody tr th {\n",
       "        vertical-align: top;\n",
       "    }\n",
       "\n",
       "    .dataframe thead th {\n",
       "        text-align: right;\n",
       "    }\n",
       "</style>\n",
       "<table border=\"1\" class=\"dataframe\">\n",
       "  <thead>\n",
       "    <tr style=\"text-align: right;\">\n",
       "      <th></th>\n",
       "      <th>CRIM</th>\n",
       "      <th>ZN</th>\n",
       "      <th>INDUS</th>\n",
       "      <th>CHAS</th>\n",
       "      <th>NOX</th>\n",
       "      <th>RM</th>\n",
       "      <th>AGE</th>\n",
       "      <th>DIS</th>\n",
       "      <th>RAD</th>\n",
       "      <th>TAX</th>\n",
       "      <th>PTRATIO</th>\n",
       "      <th>B</th>\n",
       "      <th>LSTAT</th>\n",
       "      <th>my_feature</th>\n",
       "    </tr>\n",
       "  </thead>\n",
       "  <tbody>\n",
       "    <tr>\n",
       "      <th>0</th>\n",
       "      <td>0.00632</td>\n",
       "      <td>18.0</td>\n",
       "      <td>2.31</td>\n",
       "      <td>0.0</td>\n",
       "      <td>0.538</td>\n",
       "      <td>6.575</td>\n",
       "      <td>65.2</td>\n",
       "      <td>4.0900</td>\n",
       "      <td>1.0</td>\n",
       "      <td>296.0</td>\n",
       "      <td>15.3</td>\n",
       "      <td>396.90</td>\n",
       "      <td>4.98</td>\n",
       "      <td>0.11376</td>\n",
       "    </tr>\n",
       "    <tr>\n",
       "      <th>1</th>\n",
       "      <td>0.02731</td>\n",
       "      <td>0.0</td>\n",
       "      <td>7.07</td>\n",
       "      <td>0.0</td>\n",
       "      <td>0.469</td>\n",
       "      <td>6.421</td>\n",
       "      <td>78.9</td>\n",
       "      <td>4.9671</td>\n",
       "      <td>2.0</td>\n",
       "      <td>242.0</td>\n",
       "      <td>17.8</td>\n",
       "      <td>396.90</td>\n",
       "      <td>9.14</td>\n",
       "      <td>0.00000</td>\n",
       "    </tr>\n",
       "    <tr>\n",
       "      <th>2</th>\n",
       "      <td>0.02729</td>\n",
       "      <td>0.0</td>\n",
       "      <td>7.07</td>\n",
       "      <td>0.0</td>\n",
       "      <td>0.469</td>\n",
       "      <td>7.185</td>\n",
       "      <td>61.1</td>\n",
       "      <td>4.9671</td>\n",
       "      <td>2.0</td>\n",
       "      <td>242.0</td>\n",
       "      <td>17.8</td>\n",
       "      <td>392.83</td>\n",
       "      <td>4.03</td>\n",
       "      <td>0.00000</td>\n",
       "    </tr>\n",
       "    <tr>\n",
       "      <th>3</th>\n",
       "      <td>0.03237</td>\n",
       "      <td>0.0</td>\n",
       "      <td>2.18</td>\n",
       "      <td>0.0</td>\n",
       "      <td>0.458</td>\n",
       "      <td>6.998</td>\n",
       "      <td>45.8</td>\n",
       "      <td>6.0622</td>\n",
       "      <td>3.0</td>\n",
       "      <td>222.0</td>\n",
       "      <td>18.7</td>\n",
       "      <td>394.63</td>\n",
       "      <td>2.94</td>\n",
       "      <td>0.00000</td>\n",
       "    </tr>\n",
       "    <tr>\n",
       "      <th>4</th>\n",
       "      <td>0.06905</td>\n",
       "      <td>0.0</td>\n",
       "      <td>2.18</td>\n",
       "      <td>0.0</td>\n",
       "      <td>0.458</td>\n",
       "      <td>7.147</td>\n",
       "      <td>54.2</td>\n",
       "      <td>6.0622</td>\n",
       "      <td>3.0</td>\n",
       "      <td>222.0</td>\n",
       "      <td>18.7</td>\n",
       "      <td>396.90</td>\n",
       "      <td>5.33</td>\n",
       "      <td>0.00000</td>\n",
       "    </tr>\n",
       "    <tr>\n",
       "      <th>...</th>\n",
       "      <td>...</td>\n",
       "      <td>...</td>\n",
       "      <td>...</td>\n",
       "      <td>...</td>\n",
       "      <td>...</td>\n",
       "      <td>...</td>\n",
       "      <td>...</td>\n",
       "      <td>...</td>\n",
       "      <td>...</td>\n",
       "      <td>...</td>\n",
       "      <td>...</td>\n",
       "      <td>...</td>\n",
       "      <td>...</td>\n",
       "      <td>...</td>\n",
       "    </tr>\n",
       "    <tr>\n",
       "      <th>501</th>\n",
       "      <td>0.06263</td>\n",
       "      <td>0.0</td>\n",
       "      <td>11.93</td>\n",
       "      <td>0.0</td>\n",
       "      <td>0.573</td>\n",
       "      <td>6.593</td>\n",
       "      <td>69.1</td>\n",
       "      <td>2.4786</td>\n",
       "      <td>1.0</td>\n",
       "      <td>273.0</td>\n",
       "      <td>21.0</td>\n",
       "      <td>391.99</td>\n",
       "      <td>9.67</td>\n",
       "      <td>0.00000</td>\n",
       "    </tr>\n",
       "    <tr>\n",
       "      <th>502</th>\n",
       "      <td>0.04527</td>\n",
       "      <td>0.0</td>\n",
       "      <td>11.93</td>\n",
       "      <td>0.0</td>\n",
       "      <td>0.573</td>\n",
       "      <td>6.120</td>\n",
       "      <td>76.7</td>\n",
       "      <td>2.2875</td>\n",
       "      <td>1.0</td>\n",
       "      <td>273.0</td>\n",
       "      <td>21.0</td>\n",
       "      <td>396.90</td>\n",
       "      <td>9.08</td>\n",
       "      <td>0.00000</td>\n",
       "    </tr>\n",
       "    <tr>\n",
       "      <th>503</th>\n",
       "      <td>0.06076</td>\n",
       "      <td>0.0</td>\n",
       "      <td>11.93</td>\n",
       "      <td>0.0</td>\n",
       "      <td>0.573</td>\n",
       "      <td>6.976</td>\n",
       "      <td>91.0</td>\n",
       "      <td>2.1675</td>\n",
       "      <td>1.0</td>\n",
       "      <td>273.0</td>\n",
       "      <td>21.0</td>\n",
       "      <td>396.90</td>\n",
       "      <td>5.64</td>\n",
       "      <td>0.00000</td>\n",
       "    </tr>\n",
       "    <tr>\n",
       "      <th>504</th>\n",
       "      <td>0.10959</td>\n",
       "      <td>0.0</td>\n",
       "      <td>11.93</td>\n",
       "      <td>0.0</td>\n",
       "      <td>0.573</td>\n",
       "      <td>6.794</td>\n",
       "      <td>89.3</td>\n",
       "      <td>2.3889</td>\n",
       "      <td>1.0</td>\n",
       "      <td>273.0</td>\n",
       "      <td>21.0</td>\n",
       "      <td>393.45</td>\n",
       "      <td>6.48</td>\n",
       "      <td>0.00000</td>\n",
       "    </tr>\n",
       "    <tr>\n",
       "      <th>505</th>\n",
       "      <td>0.04741</td>\n",
       "      <td>0.0</td>\n",
       "      <td>11.93</td>\n",
       "      <td>0.0</td>\n",
       "      <td>0.573</td>\n",
       "      <td>6.030</td>\n",
       "      <td>80.8</td>\n",
       "      <td>2.5050</td>\n",
       "      <td>1.0</td>\n",
       "      <td>273.0</td>\n",
       "      <td>21.0</td>\n",
       "      <td>396.90</td>\n",
       "      <td>7.88</td>\n",
       "      <td>0.00000</td>\n",
       "    </tr>\n",
       "  </tbody>\n",
       "</table>\n",
       "<p>506 rows × 14 columns</p>\n",
       "</div>"
      ],
      "text/plain": [
       "        CRIM    ZN  INDUS  CHAS    NOX     RM   AGE     DIS  RAD    TAX  \\\n",
       "0    0.00632  18.0   2.31   0.0  0.538  6.575  65.2  4.0900  1.0  296.0   \n",
       "1    0.02731   0.0   7.07   0.0  0.469  6.421  78.9  4.9671  2.0  242.0   \n",
       "2    0.02729   0.0   7.07   0.0  0.469  7.185  61.1  4.9671  2.0  242.0   \n",
       "3    0.03237   0.0   2.18   0.0  0.458  6.998  45.8  6.0622  3.0  222.0   \n",
       "4    0.06905   0.0   2.18   0.0  0.458  7.147  54.2  6.0622  3.0  222.0   \n",
       "..       ...   ...    ...   ...    ...    ...   ...     ...  ...    ...   \n",
       "501  0.06263   0.0  11.93   0.0  0.573  6.593  69.1  2.4786  1.0  273.0   \n",
       "502  0.04527   0.0  11.93   0.0  0.573  6.120  76.7  2.2875  1.0  273.0   \n",
       "503  0.06076   0.0  11.93   0.0  0.573  6.976  91.0  2.1675  1.0  273.0   \n",
       "504  0.10959   0.0  11.93   0.0  0.573  6.794  89.3  2.3889  1.0  273.0   \n",
       "505  0.04741   0.0  11.93   0.0  0.573  6.030  80.8  2.5050  1.0  273.0   \n",
       "\n",
       "     PTRATIO       B  LSTAT  my_feature  \n",
       "0       15.3  396.90   4.98     0.11376  \n",
       "1       17.8  396.90   9.14     0.00000  \n",
       "2       17.8  392.83   4.03     0.00000  \n",
       "3       18.7  394.63   2.94     0.00000  \n",
       "4       18.7  396.90   5.33     0.00000  \n",
       "..       ...     ...    ...         ...  \n",
       "501     21.0  391.99   9.67     0.00000  \n",
       "502     21.0  396.90   9.08     0.00000  \n",
       "503     21.0  396.90   5.64     0.00000  \n",
       "504     21.0  393.45   6.48     0.00000  \n",
       "505     21.0  396.90   7.88     0.00000  \n",
       "\n",
       "[506 rows x 14 columns]"
      ]
     },
     "execution_count": 35,
     "metadata": {},
     "output_type": "execute_result"
    }
   ],
   "source": [
    "X['my_feature'] = X['CRIM'] * X['ZN']\n",
    "X"
   ]
  },
  {
   "cell_type": "markdown",
   "metadata": {
    "colab_type": "text",
    "id": "CoQsbQuNZNd0"
   },
   "source": [
    "Визуализируем распределения признаков в датасете"
   ]
  },
  {
   "cell_type": "code",
   "execution_count": 36,
   "metadata": {
    "colab": {
     "base_uri": "https://localhost:8080/",
     "height": 609
    },
    "colab_type": "code",
    "id": "Yg_KNjVwZNd0",
    "outputId": "5189563a-cdcb-4f35-ae56-cf97ac27cc67"
   },
   "outputs": [
    {
     "data": {
      "image/png": "[encoded data removed]",
      "text/plain": [
       "<Figure size 720x720 with 16 Axes>"
      ]
     },
     "metadata": {
      "needs_background": "light"
     },
     "output_type": "display_data"
    }
   ],
   "source": [
    "_ = X.hist(X.columns, figsize=(10, 10))"
   ]
  },
  {
   "cell_type": "markdown",
   "metadata": {
    "colab_type": "text",
    "id": "NooZ9aKZdT-p"
   },
   "source": [
    "Посмотрим на то, как скоррелированы данные"
   ]
  },
  {
   "cell_type": "code",
   "execution_count": 37,
   "metadata": {
    "colab": {
     "base_uri": "https://localhost:8080/",
     "height": 329
    },
    "colab_type": "code",
    "id": "cyfN1MHdZNd3",
    "outputId": "94ef5d5d-f095-4401-9f5c-70dbed42dcae"
   },
   "outputs": [
    {
     "data": {
      "text/plain": [
       "<AxesSubplot:>"
      ]
     },
     "execution_count": 37,
     "metadata": {},
     "output_type": "execute_result"
    },
    {
     "data": {
      "image/png": "[encoded data removed]",
      "text/plain": [
       "<Figure size 432x288 with 2 Axes>"
      ]
     },
     "metadata": {
      "needs_background": "light"
     },
     "output_type": "display_data"
    }
   ],
   "source": [
    "import seaborn as sns\n",
    "\n",
    "sns.heatmap(X.corr())"
   ]
  },
  {
   "cell_type": "markdown",
   "metadata": {
    "colab_type": "text",
    "id": "RGWh_vjvZNd4"
   },
   "source": [
    "Сделаем предсказание: какие факторы окажутся наиболее значимыми и в какую сторону?"
   ]
  },
  {
   "cell_type": "markdown",
   "metadata": {
    "colab_type": "text",
    "id": "YuLPyVk0ZNd5"
   },
   "source": [
    "## Обучение на реальных данных\n",
    "\n",
    "Разобьём выборку на train и test в соотношении 70/30."
   ]
  },
  {
   "cell_type": "code",
   "execution_count": 38,
   "metadata": {
    "colab": {},
    "colab_type": "code",
    "id": "xuKzTLNoZNd5"
   },
   "outputs": [],
   "source": [
    "from sklearn.model_selection import train_test_split\n",
    "\n",
    "X_train, X_test, y_train, y_test = train_test_split(X, y, train_size=0.7)"
   ]
  },
  {
   "cell_type": "code",
   "execution_count": 39,
   "metadata": {
    "colab": {
     "base_uri": "https://localhost:8080/",
     "height": 34
    },
    "colab_type": "code",
    "id": "DLotzZGfZNd7",
    "outputId": "d962406e-7f86-46c5-afbe-7970f3ec500b"
   },
   "outputs": [
    {
     "data": {
      "text/plain": [
       "((354,), (152,))"
      ]
     },
     "execution_count": 39,
     "metadata": {},
     "output_type": "execute_result"
    }
   ],
   "source": [
    "y_train.shape, y_test.shape"
   ]
  },
  {
   "cell_type": "markdown",
   "metadata": {
    "colab_type": "text",
    "id": "Nx6qQ1DhZNd9"
   },
   "source": [
    "Выполним нормировку данных"
   ]
  },
  {
   "cell_type": "code",
   "execution_count": 40,
   "metadata": {
    "colab": {},
    "colab_type": "code",
    "id": "Zlnwdj1zZNd9"
   },
   "outputs": [],
   "source": [
    "from sklearn.preprocessing import StandardScaler\n",
    "\n",
    "scaler = StandardScaler()\n",
    "\n",
    "X_train = scaler.fit_transform(X_train)\n",
    "X_test = scaler.transform(X_test)"
   ]
  },
  {
   "cell_type": "markdown",
   "metadata": {
    "colab_type": "text",
    "id": "xalTD7QhZNeA"
   },
   "source": [
    "Обучим линейную регрессию и подсчитаем её качество на тесте."
   ]
  },
  {
   "cell_type": "code",
   "execution_count": 41,
   "metadata": {
    "colab": {},
    "colab_type": "code",
    "id": "QN5tHR5cZNeA"
   },
   "outputs": [],
   "source": [
    "model = LinearRegression()\n",
    "\n",
    "model.fit(X_train, y_train)\n",
    "\n",
    "y_train_prediction = model.predict(X_train)\n",
    "y_test_prediction = model.predict(X_test)"
   ]
  },
  {
   "cell_type": "code",
   "execution_count": 42,
   "metadata": {
    "colab": {
     "base_uri": "https://localhost:8080/",
     "height": 85
    },
    "colab_type": "code",
    "id": "AxBaxPBlZNeC",
    "outputId": "c0b5c7e4-9320-44f4-8c06-9f10ccd8b3a7"
   },
   "outputs": [
    {
     "name": "stdout",
     "output_type": "stream",
     "text": [
      "Train MSE:  20.214569546592685\n",
      "Test MSE:  27.951144071211335\n"
     ]
    },
    {
     "ename": "NameError",
     "evalue": "name 'mean_absolute_error' is not defined",
     "output_type": "error",
     "traceback": [
      "\u001b[1;31m---------------------------------------------------------------------------\u001b[0m",
      "\u001b[1;31mNameError\u001b[0m                                 Traceback (most recent call last)",
      "\u001b[1;32m<ipython-input-42-6528b8e02655>\u001b[0m in \u001b[0;36m<module>\u001b[1;34m\u001b[0m\n\u001b[0;32m      2\u001b[0m \u001b[0mprint\u001b[0m\u001b[1;33m(\u001b[0m\u001b[1;34m'Test MSE: '\u001b[0m\u001b[1;33m,\u001b[0m \u001b[0mmean_squared_error\u001b[0m\u001b[1;33m(\u001b[0m\u001b[0my_test\u001b[0m\u001b[1;33m,\u001b[0m \u001b[0my_test_prediction\u001b[0m\u001b[1;33m)\u001b[0m\u001b[1;33m)\u001b[0m\u001b[1;33m\u001b[0m\u001b[1;33m\u001b[0m\u001b[0m\n\u001b[0;32m      3\u001b[0m \u001b[1;33m\u001b[0m\u001b[0m\n\u001b[1;32m----> 4\u001b[1;33m \u001b[0mprint\u001b[0m\u001b[1;33m(\u001b[0m\u001b[1;34m'Train MAE: '\u001b[0m\u001b[1;33m,\u001b[0m \u001b[0mmean_absolute_error\u001b[0m\u001b[1;33m(\u001b[0m\u001b[0my_train\u001b[0m\u001b[1;33m,\u001b[0m \u001b[0my_train_prediction\u001b[0m\u001b[1;33m)\u001b[0m\u001b[1;33m)\u001b[0m\u001b[1;33m\u001b[0m\u001b[1;33m\u001b[0m\u001b[0m\n\u001b[0m\u001b[0;32m      5\u001b[0m \u001b[0mprint\u001b[0m\u001b[1;33m(\u001b[0m\u001b[1;34m'Test MAE: '\u001b[0m\u001b[1;33m,\u001b[0m \u001b[0mmean_absolute_error\u001b[0m\u001b[1;33m(\u001b[0m\u001b[0my_test\u001b[0m\u001b[1;33m,\u001b[0m \u001b[0my_test_prediction\u001b[0m\u001b[1;33m)\u001b[0m\u001b[1;33m)\u001b[0m\u001b[1;33m\u001b[0m\u001b[1;33m\u001b[0m\u001b[0m\n",
      "\u001b[1;31mNameError\u001b[0m: name 'mean_absolute_error' is not defined"
     ]
    }
   ],
   "source": [
    "print('Train MSE: ', mean_squared_error(y_train, y_train_prediction))\n",
    "print('Test MSE: ', mean_squared_error(y_test, y_test_prediction))\n",
    "\n",
    "print('Train MAE: ', mean_absolute_error(y_train, y_train_prediction))\n",
    "print('Test MAE: ', mean_absolute_error(y_test, y_test_prediction))"
   ]
  },
  {
   "cell_type": "markdown",
   "metadata": {
    "colab_type": "text",
    "id": "ifKs5lU9ZNeD"
   },
   "source": [
    "Визуализируем получившиеся веса"
   ]
  },
  {
   "cell_type": "code",
   "execution_count": 43,
   "metadata": {
    "colab": {
     "base_uri": "https://localhost:8080/",
     "height": 502
    },
    "colab_type": "code",
    "id": "JzEISYKVZNeE",
    "outputId": "11f65944-ad12-4c61-eab3-b586cd1fff3e"
   },
   "outputs": [
    {
     "data": {
      "text/plain": [
       "<BarContainer object of 14 artists>"
      ]
     },
     "execution_count": 43,
     "metadata": {},
     "output_type": "execute_result"
    },
    {
     "data": {
      "image/png": "[encoded data removed]",
      "text/plain": [
       "<Figure size 1440x576 with 1 Axes>"
      ]
     },
     "metadata": {
      "needs_background": "light"
     },
     "output_type": "display_data"
    }
   ],
   "source": [
    "plt.figure(figsize=(20, 8))\n",
    "plt.bar(X.columns, model.coef_)"
   ]
  },
  {
   "cell_type": "markdown",
   "metadata": {
    "colab_type": "text",
    "id": "DQQn1Y-fZNeH"
   },
   "source": [
    "## Ridge & Lasso\n",
    "\n",
    "Попытаемся исправить проблему переобучения для линейной регрессии. Замечено, что линейная регрессия переобучается, когда вектор весов имеет очень большие значения. Постараемся избежать этого, прибавив к функции потерь дополнительное слагаемое.\n",
    "\n",
    "### Ridge regression:\n",
    "$$L(x, y) = \\overline{(<w, x> - y_{true})^2} + \\lambda ||w||^2 \\rightarrow \\min_{w}.$$\n",
    "\n",
    "### Lasso regression:\n",
    "\n",
    "$$L(x, y) = \\overline{(<w, x> - y_{true})^2} + \\lambda ||w|| \\rightarrow \\min_{w}.$$"
   ]
  },
  {
   "cell_type": "code",
   "execution_count": 44,
   "metadata": {
    "colab": {},
    "colab_type": "code",
    "id": "otS4C5rRZNeH"
   },
   "outputs": [],
   "source": [
    "from sklearn.linear_model import Ridge, Lasso"
   ]
  },
  {
   "cell_type": "markdown",
   "metadata": {
    "colab_type": "text",
    "id": "pMy5mYrSZNeJ"
   },
   "source": [
    "Ridge (L2-регуляризация) сильно штрафует за слишком большие веса и не очень за малые. При увеличении коэффициента перед регуляризатором веса меняются плавно"
   ]
  },
  {
   "cell_type": "code",
   "execution_count": 45,
   "metadata": {
    "colab": {
     "base_uri": "https://localhost:8080/",
     "height": 483
    },
    "colab_type": "code",
    "id": "Oap5fAZWZNeJ",
    "outputId": "8a713bf6-e031-4b5c-85ec-da3c3ce1cb59"
   },
   "outputs": [
    {
     "data": {
      "image/png": "[encoded data removed]",
      "text/plain": [
       "<Figure size 1080x576 with 1 Axes>"
      ]
     },
     "metadata": {
      "needs_background": "light"
     },
     "output_type": "display_data"
    }
   ],
   "source": [
    "alphas = np.linspace(1, 1000, 100)\n",
    "\n",
    "weights = np.empty((len(X.columns), 0))\n",
    "for alpha in alphas:\n",
    "    ridge_regressor = Ridge(alpha)\n",
    "    ridge_regressor.fit(X_train, y_train)\n",
    "    weights = np.hstack((weights, ridge_regressor.coef_.reshape(-1, 1)))\n",
    "plt.figure(figsize=(15,8))\n",
    "plt.plot(alphas, weights.T)\n",
    "plt.show()"
   ]
  },
  {
   "cell_type": "markdown",
   "metadata": {
    "colab_type": "text",
    "id": "6RByTtFvZNeL"
   },
   "source": [
    "Lasso одинаково сильно штрафует малые и большие веса, поэтому при достаточно большом коэффициенте регуляризации многие признаки становятся равными нулю, при этом остаются только наиболее инфромативные. Этот факт можно использовать для решения задачи отбора признаков."
   ]
  },
  {
   "cell_type": "code",
   "execution_count": 46,
   "metadata": {
    "colab": {
     "base_uri": "https://localhost:8080/",
     "height": 500
    },
    "colab_type": "code",
    "id": "eJYxVCXFZNeL",
    "outputId": "8fc5d31d-3ea5-4ea1-ad48-7cf6f5cfe49f"
   },
   "outputs": [
    {
     "data": {
      "text/plain": [
       "<Figure size 720x360 with 0 Axes>"
      ]
     },
     "metadata": {},
     "output_type": "display_data"
    },
    {
     "data": {
      "image/png": "[encoded data removed]",
      "text/plain": [
       "<Figure size 1080x576 with 1 Axes>"
      ]
     },
     "metadata": {
      "needs_background": "light"
     },
     "output_type": "display_data"
    }
   ],
   "source": [
    "alphas = np.linspace(0.1, 1, 100)\n",
    "\n",
    "plt.figure(figsize=(10, 5))\n",
    "weights = np.empty((len(X.columns), 0))\n",
    "for alpha in alphas:\n",
    "    lasso_regressor = Lasso(alpha)\n",
    "    lasso_regressor.fit(X_train, y_train)\n",
    "    weights = np.hstack((weights, lasso_regressor.coef_.reshape(-1, 1)))\n",
    "plt.figure(figsize=(15,8))\n",
    "plt.plot(alphas, weights.T)\n",
    "plt.grid()\n",
    "plt.show()"
   ]
  },
  {
   "cell_type": "code",
   "execution_count": null,
   "metadata": {},
   "outputs": [],
   "source": []
  },
  {
   "cell_type": "markdown",
   "metadata": {
    "colab_type": "text",
    "id": "cY0OimI5fbfF"
   },
   "source": [
    "# Предсказание отклика на маркетинговую кампанию"
   ]
  },
  {
   "cell_type": "markdown",
   "metadata": {
    "colab_type": "text",
    "id": "BOCl3mOtZNex"
   },
   "source": [
    "Возьмем датасет содержащий информацию о клиентах и маркетинговой кампании некоторого банка. Наша задача --- предсказать успешность кампании для каждого клиента. Признаками являются различные характеристики клиента и кампании."
   ]
  },
  {
   "cell_type": "markdown",
   "metadata": {
    "colab_type": "text",
    "id": "BX9DR2iOZNex"
   },
   "source": [
    "Какие признаки вы бы использовали?"
   ]
  },
  {
   "cell_type": "markdown",
   "metadata": {
    "colab_type": "text",
    "id": "4mzAhrbnZNex"
   },
   "source": [
    "http://archive.ics.uci.edu/ml/datasets/Bank+Marketing"
   ]
  },
  {
   "cell_type": "code",
   "execution_count": 49,
   "metadata": {
    "colab": {},
    "colab_type": "code",
    "id": "cMt0yBeLZNey"
   },
   "outputs": [],
   "source": [
    "# Считаем данные\n",
    "data = pd.read_csv(filepath_or_buffer = '../../../data/bank.csv', sep=';')"
   ]
  },
  {
   "cell_type": "code",
   "execution_count": 50,
   "metadata": {
    "colab": {
     "base_uri": "https://localhost:8080/",
     "height": 204
    },
    "colab_type": "code",
    "id": "iFRnFlSIZNez",
    "outputId": "fa259155-0c70-4025-a0a1-e93fa6afac90"
   },
   "outputs": [
    {
     "data": {
      "text/html": [
       "<div>\n",
       "<style scoped>\n",
       "    .dataframe tbody tr th:only-of-type {\n",
       "        vertical-align: middle;\n",
       "    }\n",
       "\n",
       "    .dataframe tbody tr th {\n",
       "        vertical-align: top;\n",
       "    }\n",
       "\n",
       "    .dataframe thead th {\n",
       "        text-align: right;\n",
       "    }\n",
       "</style>\n",
       "<table border=\"1\" class=\"dataframe\">\n",
       "  <thead>\n",
       "    <tr style=\"text-align: right;\">\n",
       "      <th></th>\n",
       "      <th>age</th>\n",
       "      <th>job</th>\n",
       "      <th>marital</th>\n",
       "      <th>education</th>\n",
       "      <th>default</th>\n",
       "      <th>balance</th>\n",
       "      <th>housing</th>\n",
       "      <th>loan</th>\n",
       "      <th>contact</th>\n",
       "      <th>day</th>\n",
       "      <th>month</th>\n",
       "      <th>duration</th>\n",
       "      <th>campaign</th>\n",
       "      <th>pdays</th>\n",
       "      <th>previous</th>\n",
       "      <th>poutcome</th>\n",
       "      <th>y</th>\n",
       "    </tr>\n",
       "  </thead>\n",
       "  <tbody>\n",
       "    <tr>\n",
       "      <th>0</th>\n",
       "      <td>30</td>\n",
       "      <td>unemployed</td>\n",
       "      <td>married</td>\n",
       "      <td>primary</td>\n",
       "      <td>no</td>\n",
       "      <td>1787</td>\n",
       "      <td>no</td>\n",
       "      <td>no</td>\n",
       "      <td>cellular</td>\n",
       "      <td>19</td>\n",
       "      <td>oct</td>\n",
       "      <td>79</td>\n",
       "      <td>1</td>\n",
       "      <td>-1</td>\n",
       "      <td>0</td>\n",
       "      <td>unknown</td>\n",
       "      <td>no</td>\n",
       "    </tr>\n",
       "    <tr>\n",
       "      <th>1</th>\n",
       "      <td>33</td>\n",
       "      <td>services</td>\n",
       "      <td>married</td>\n",
       "      <td>secondary</td>\n",
       "      <td>no</td>\n",
       "      <td>4789</td>\n",
       "      <td>yes</td>\n",
       "      <td>yes</td>\n",
       "      <td>cellular</td>\n",
       "      <td>11</td>\n",
       "      <td>may</td>\n",
       "      <td>220</td>\n",
       "      <td>1</td>\n",
       "      <td>339</td>\n",
       "      <td>4</td>\n",
       "      <td>failure</td>\n",
       "      <td>no</td>\n",
       "    </tr>\n",
       "    <tr>\n",
       "      <th>2</th>\n",
       "      <td>35</td>\n",
       "      <td>management</td>\n",
       "      <td>single</td>\n",
       "      <td>tertiary</td>\n",
       "      <td>no</td>\n",
       "      <td>1350</td>\n",
       "      <td>yes</td>\n",
       "      <td>no</td>\n",
       "      <td>cellular</td>\n",
       "      <td>16</td>\n",
       "      <td>apr</td>\n",
       "      <td>185</td>\n",
       "      <td>1</td>\n",
       "      <td>330</td>\n",
       "      <td>1</td>\n",
       "      <td>failure</td>\n",
       "      <td>no</td>\n",
       "    </tr>\n",
       "    <tr>\n",
       "      <th>3</th>\n",
       "      <td>30</td>\n",
       "      <td>management</td>\n",
       "      <td>married</td>\n",
       "      <td>tertiary</td>\n",
       "      <td>no</td>\n",
       "      <td>1476</td>\n",
       "      <td>yes</td>\n",
       "      <td>yes</td>\n",
       "      <td>unknown</td>\n",
       "      <td>3</td>\n",
       "      <td>jun</td>\n",
       "      <td>199</td>\n",
       "      <td>4</td>\n",
       "      <td>-1</td>\n",
       "      <td>0</td>\n",
       "      <td>unknown</td>\n",
       "      <td>no</td>\n",
       "    </tr>\n",
       "    <tr>\n",
       "      <th>4</th>\n",
       "      <td>59</td>\n",
       "      <td>blue-collar</td>\n",
       "      <td>married</td>\n",
       "      <td>secondary</td>\n",
       "      <td>no</td>\n",
       "      <td>0</td>\n",
       "      <td>yes</td>\n",
       "      <td>no</td>\n",
       "      <td>unknown</td>\n",
       "      <td>5</td>\n",
       "      <td>may</td>\n",
       "      <td>226</td>\n",
       "      <td>1</td>\n",
       "      <td>-1</td>\n",
       "      <td>0</td>\n",
       "      <td>unknown</td>\n",
       "      <td>no</td>\n",
       "    </tr>\n",
       "  </tbody>\n",
       "</table>\n",
       "</div>"
      ],
      "text/plain": [
       "   age          job  marital  education default  balance housing loan  \\\n",
       "0   30   unemployed  married    primary      no     1787      no   no   \n",
       "1   33     services  married  secondary      no     4789     yes  yes   \n",
       "2   35   management   single   tertiary      no     1350     yes   no   \n",
       "3   30   management  married   tertiary      no     1476     yes  yes   \n",
       "4   59  blue-collar  married  secondary      no        0     yes   no   \n",
       "\n",
       "    contact  day month  duration  campaign  pdays  previous poutcome   y  \n",
       "0  cellular   19   oct        79         1     -1         0  unknown  no  \n",
       "1  cellular   11   may       220         1    339         4  failure  no  \n",
       "2  cellular   16   apr       185         1    330         1  failure  no  \n",
       "3   unknown    3   jun       199         4     -1         0  unknown  no  \n",
       "4   unknown    5   may       226         1     -1         0  unknown  no  "
      ]
     },
     "execution_count": 50,
     "metadata": {},
     "output_type": "execute_result"
    }
   ],
   "source": [
    "data.head()"
   ]
  },
  {
   "cell_type": "code",
   "execution_count": 51,
   "metadata": {
    "colab": {
     "base_uri": "https://localhost:8080/",
     "height": 391
    },
    "colab_type": "code",
    "id": "_fJs6-GJZNe1",
    "outputId": "208b3530-7926-46ea-cffe-1e2cfb85e7d0"
   },
   "outputs": [
    {
     "name": "stdout",
     "output_type": "stream",
     "text": [
      "<class 'pandas.core.frame.DataFrame'>\n",
      "RangeIndex: 4521 entries, 0 to 4520\n",
      "Data columns (total 17 columns):\n",
      " #   Column     Non-Null Count  Dtype \n",
      "---  ------     --------------  ----- \n",
      " 0   age        4521 non-null   int64 \n",
      " 1   job        4521 non-null   object\n",
      " 2   marital    4521 non-null   object\n",
      " 3   education  4521 non-null   object\n",
      " 4   default    4521 non-null   object\n",
      " 5   balance    4521 non-null   int64 \n",
      " 6   housing    4521 non-null   object\n",
      " 7   loan       4521 non-null   object\n",
      " 8   contact    4521 non-null   object\n",
      " 9   day        4521 non-null   int64 \n",
      " 10  month      4521 non-null   object\n",
      " 11  duration   4521 non-null   int64 \n",
      " 12  campaign   4521 non-null   int64 \n",
      " 13  pdays      4521 non-null   int64 \n",
      " 14  previous   4521 non-null   int64 \n",
      " 15  poutcome   4521 non-null   object\n",
      " 16  y          4521 non-null   object\n",
      "dtypes: int64(7), object(10)\n",
      "memory usage: 600.6+ KB\n"
     ]
    }
   ],
   "source": [
    "data.info()"
   ]
  },
  {
   "cell_type": "code",
   "execution_count": 52,
   "metadata": {
    "colab": {},
    "colab_type": "code",
    "id": "Zf4NIGjAZNe3"
   },
   "outputs": [],
   "source": [
    "X = data.iloc[:, :-1].copy()\n",
    "y = data.iloc[:, -1].copy()\n",
    "\n",
    "# Бинаризуем таргет\n",
    "from sklearn.preprocessing import LabelBinarizer\n",
    "y = LabelBinarizer().fit_transform(y).ravel()"
   ]
  },
  {
   "cell_type": "markdown",
   "metadata": {
    "colab_type": "text",
    "id": "xhlZqXTrZNe4"
   },
   "source": [
    "Классы очень несбалансированы:"
   ]
  },
  {
   "cell_type": "code",
   "execution_count": 53,
   "metadata": {
    "colab": {
     "base_uri": "https://localhost:8080/",
     "height": 34
    },
    "colab_type": "code",
    "id": "kqF4d9GIZNe5",
    "outputId": "b5fe072d-f5b9-40a8-996c-921d14fdec1e"
   },
   "outputs": [
    {
     "data": {
      "text/plain": [
       "0.11523999115239991"
      ]
     },
     "execution_count": 53,
     "metadata": {},
     "output_type": "execute_result"
    }
   ],
   "source": [
    "y.mean()"
   ]
  },
  {
   "cell_type": "markdown",
   "metadata": {
    "colab_type": "text",
    "id": "nq3rBxkYZNe6"
   },
   "source": [
    "Заметим, что среди признаков достаточно много категориальных, в то время как линейные модели работают с числовыми признаками.\n",
    "\n",
    "Одним из способов получить числовые значения категориальных параметров является One-hot encoding. Его суть состоит в том, что для каждого категориального признака $f$ и каждого его значения $v$ создается новый признак, который равен 1 если у объекта значение $f$ равно $v$ и 0 иначе.\n",
    "\n",
    "One-hot encoding с помощью pandas можно сделать одной строчкой:"
   ]
  },
  {
   "cell_type": "code",
   "execution_count": 54,
   "metadata": {
    "colab": {
     "base_uri": "https://localhost:8080/",
     "height": 969
    },
    "colab_type": "code",
    "id": "urbqCU2zZNe6",
    "outputId": "2520f1ed-5848-4dec-ee41-9c81dd0ea018"
   },
   "outputs": [
    {
     "name": "stdout",
     "output_type": "stream",
     "text": [
      "<class 'pandas.core.frame.DataFrame'>\n",
      "RangeIndex: 4521 entries, 0 to 4520\n",
      "Data columns (total 51 columns):\n",
      " #   Column               Non-Null Count  Dtype\n",
      "---  ------               --------------  -----\n",
      " 0   age                  4521 non-null   int64\n",
      " 1   balance              4521 non-null   int64\n",
      " 2   day                  4521 non-null   int64\n",
      " 3   duration             4521 non-null   int64\n",
      " 4   campaign             4521 non-null   int64\n",
      " 5   pdays                4521 non-null   int64\n",
      " 6   previous             4521 non-null   int64\n",
      " 7   job_admin.           4521 non-null   uint8\n",
      " 8   job_blue-collar      4521 non-null   uint8\n",
      " 9   job_entrepreneur     4521 non-null   uint8\n",
      " 10  job_housemaid        4521 non-null   uint8\n",
      " 11  job_management       4521 non-null   uint8\n",
      " 12  job_retired          4521 non-null   uint8\n",
      " 13  job_self-employed    4521 non-null   uint8\n",
      " 14  job_services         4521 non-null   uint8\n",
      " 15  job_student          4521 non-null   uint8\n",
      " 16  job_technician       4521 non-null   uint8\n",
      " 17  job_unemployed       4521 non-null   uint8\n",
      " 18  job_unknown          4521 non-null   uint8\n",
      " 19  marital_divorced     4521 non-null   uint8\n",
      " 20  marital_married      4521 non-null   uint8\n",
      " 21  marital_single       4521 non-null   uint8\n",
      " 22  education_primary    4521 non-null   uint8\n",
      " 23  education_secondary  4521 non-null   uint8\n",
      " 24  education_tertiary   4521 non-null   uint8\n",
      " 25  education_unknown    4521 non-null   uint8\n",
      " 26  default_no           4521 non-null   uint8\n",
      " 27  default_yes          4521 non-null   uint8\n",
      " 28  housing_no           4521 non-null   uint8\n",
      " 29  housing_yes          4521 non-null   uint8\n",
      " 30  loan_no              4521 non-null   uint8\n",
      " 31  loan_yes             4521 non-null   uint8\n",
      " 32  contact_cellular     4521 non-null   uint8\n",
      " 33  contact_telephone    4521 non-null   uint8\n",
      " 34  contact_unknown      4521 non-null   uint8\n",
      " 35  month_apr            4521 non-null   uint8\n",
      " 36  month_aug            4521 non-null   uint8\n",
      " 37  month_dec            4521 non-null   uint8\n",
      " 38  month_feb            4521 non-null   uint8\n",
      " 39  month_jan            4521 non-null   uint8\n",
      " 40  month_jul            4521 non-null   uint8\n",
      " 41  month_jun            4521 non-null   uint8\n",
      " 42  month_mar            4521 non-null   uint8\n",
      " 43  month_may            4521 non-null   uint8\n",
      " 44  month_nov            4521 non-null   uint8\n",
      " 45  month_oct            4521 non-null   uint8\n",
      " 46  month_sep            4521 non-null   uint8\n",
      " 47  poutcome_failure     4521 non-null   uint8\n",
      " 48  poutcome_other       4521 non-null   uint8\n",
      " 49  poutcome_success     4521 non-null   uint8\n",
      " 50  poutcome_unknown     4521 non-null   uint8\n",
      "dtypes: int64(7), uint8(44)\n",
      "memory usage: 441.6 KB\n"
     ]
    }
   ],
   "source": [
    "X = pd.get_dummies(X)\n",
    "\n",
    "# Обратите внимание на признаки\n",
    "X.info()"
   ]
  },
  {
   "cell_type": "markdown",
   "metadata": {
    "colab_type": "text",
    "id": "_UeZs591ZNe8"
   },
   "source": [
    "Разобьем выборку на трейн и тест"
   ]
  },
  {
   "cell_type": "code",
   "execution_count": 55,
   "metadata": {
    "colab": {},
    "colab_type": "code",
    "id": "bmBrZLoWZNe8"
   },
   "outputs": [],
   "source": [
    "X_train, X_test, y_train, y_test = train_test_split(X, y, test_size=0.2)"
   ]
  },
  {
   "cell_type": "markdown",
   "metadata": {
    "colab_type": "text",
    "id": "VtJFKexMZNfB"
   },
   "source": [
    "Обучим линейную регрессию."
   ]
  },
  {
   "cell_type": "code",
   "execution_count": 56,
   "metadata": {
    "colab": {},
    "colab_type": "code",
    "id": "bOMpsuYnZNfB"
   },
   "outputs": [],
   "source": [
    "model_linear = LinearRegression()\n",
    "model_linear.fit(X_train, y_train)\n",
    "\n",
    "y_predicted = model_linear.predict(X_test)\n"
   ]
  },
  {
   "cell_type": "markdown",
   "metadata": {
    "colab_type": "text",
    "id": "DTmUWR21f2CT"
   },
   "source": [
    "Наконец, посчитаем метрики"
   ]
  },
  {
   "cell_type": "code",
   "execution_count": 57,
   "metadata": {
    "colab": {
     "base_uri": "https://localhost:8080/",
     "height": 68
    },
    "colab_type": "code",
    "id": "-xZBuldMZNfF",
    "outputId": "150518f4-6044-479b-99f2-2f626d59ccef"
   },
   "outputs": [
    {
     "name": "stdout",
     "output_type": "stream",
     "text": [
      "Test accuracy:  0.8552486187845304\n",
      "Test F measure:  0.5704918032786885\n",
      "Test ROC-AUC:  0.9177625653035489\n"
     ]
    }
   ],
   "source": [
    "print('Test accuracy: ', accuracy_score(y_test, y_predicted > 0.2))\n",
    "print('Test F measure: ', f1_score(y_test, y_predicted > 0.2))\n",
    "print('Test ROC-AUC: ', roc_auc_score(y_test, y_predicted))"
   ]
  }
 ],
 "metadata": {
  "colab": {
   "name": "LinReg.ipynb",
   "provenance": []
  },
  "kernelspec": {
   "display_name": "Python 3",
   "language": "python",
   "name": "python3"
  },
  "language_info": {
   "codemirror_mode": {
    "name": "ipython",
    "version": 3
   },
   "file_extension": ".py",
   "mimetype": "text/x-python",
   "name": "python",
   "nbconvert_exporter": "python",
   "pygments_lexer": "ipython3",
   "version": "3.7.10"
  },
  "toc": {
   "base_numbering": 1,
   "nav_menu": {},
   "number_sections": true,
   "sideBar": true,
   "skip_h1_title": false,
   "title_cell": "Table of Contents",
   "title_sidebar": "Contents",
   "toc_cell": true,
   "toc_position": {},
   "toc_section_display": true,
   "toc_window_display": false
  }
 },
 "nbformat": 4,
 "nbformat_minor": 1
}
